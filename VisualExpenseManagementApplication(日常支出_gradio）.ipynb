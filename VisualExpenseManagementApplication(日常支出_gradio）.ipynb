{
  "nbformat": 4,
  "nbformat_minor": 0,
  "metadata": {
    "colab": {
      "provenance": [],
      "authorship_tag": "ABX9TyMa0OpEt/DDxgDceInES1Oq",
      "include_colab_link": true
    },
    "kernelspec": {
      "name": "python3",
      "display_name": "Python 3"
    },
    "language_info": {
      "name": "python"
    }
  },
  "cells": [
    {
      "cell_type": "markdown",
      "metadata": {
        "id": "view-in-github",
        "colab_type": "text"
      },
      "source": [
        "<a href=\"https://colab.research.google.com/github/EmmaHsueh/PL_project/blob/main/VisualExpenseManagementApplication(%E6%97%A5%E5%B8%B8%E6%94%AF%E5%87%BA_gradio%EF%BC%89.ipynb\" target=\"_parent\"><img src=\"https://colab.research.google.com/assets/colab-badge.svg\" alt=\"Open In Colab\"/></a>"
      ]
    },
    {
      "cell_type": "code",
      "source": [
        "# ----------------------------------------------------------------------\n",
        "# 1. Colab 驗證與 Google Sheets 授權 (請在 Colab 環境中執行這段)\n",
        "# ----------------------------------------------------------------------\n",
        "from google.colab import auth\n",
        "import gspread\n",
        "from google.auth import default\n",
        "import pandas as pd\n",
        "import gradio as gr\n",
        "import io\n",
        "import datetime\n",
        "\n",
        "print(\"正在執行 Colab 驗證...\")\n",
        "auth.authenticate_user()\n",
        "creds, _ = default()\n",
        "gc = gspread.authorize(creds)\n",
        "print(\"Colab 驗證完成。\")\n",
        "\n",
        "# Google Sheets 設置\n",
        "GSHEET_URL = 'https://docs.google.com/spreadsheets/d/13KwCOffzsODwrwTg8SqfwUZBkvxGZveFozel_EqBI8I/edit?usp=sharing'\n",
        "SHEET_NAME = '工作表1' # 假設你的工作表名稱\n",
        "\n",
        "try:\n",
        "    # 打開試算表\n",
        "    gsheets = gc.open_by_url(GSHEET_URL)\n",
        "    # 取得第一個工作表\n",
        "    sheet = gsheets.sheet1\n",
        "except Exception as e:\n",
        "    print(f\"無法開啟 Google Sheet 或存取工作表：{e}\")\n",
        "    # 建立一個模擬的 sheet 物件以防止程式完全崩潰，但在 Gradio 中會失敗\n",
        "    # 實際部署時，請確保 URL 和權限正確。\n"
      ],
      "metadata": {
        "colab": {
          "base_uri": "https://localhost:8080/"
        },
        "id": "YzaneBtblcDF",
        "outputId": "28ded090-0b68-42e4-f9fc-d021d1b57177"
      },
      "execution_count": 4,
      "outputs": [
        {
          "output_type": "stream",
          "name": "stdout",
          "text": [
            "正在執行 Colab 驗證...\n",
            "Colab 驗證完成。\n"
          ]
        }
      ]
    },
    {
      "cell_type": "code",
      "source": [
        "# ----------------------------------------------------------------------\n",
        "# 2. 核心功能函數 (整合 Google Sheets I/O)\n",
        "# ----------------------------------------------------------------------"
      ],
      "metadata": {
        "id": "ICINT3YNlsmu"
      },
      "execution_count": 5,
      "outputs": []
    },
    {
      "cell_type": "code",
      "source": [
        "def load_dataframe_from_sheet():\n",
        "    \"\"\"從 Google Sheet 讀取所有資料並轉換為 DataFrame。\"\"\"\n",
        "    try:\n",
        "        # 使用 get_all_records() 讀取資料，這會自動將標題行作為鍵，並嘗試推斷類型\n",
        "        # 但 '金額' 欄位可能仍需手動轉換以確保計算正確\n",
        "        records = sheet.get_all_records()\n",
        "\n",
        "        if not records:\n",
        "            # 如果沒有記錄，但有標題，則只創建空的 DataFrame\n",
        "            headers = sheet.row_values(1)\n",
        "            if headers:\n",
        "                return pd.DataFrame(columns=headers)\n",
        "            # 如果連標題都沒有，則使用預期的欄位名稱\n",
        "            return pd.DataFrame(columns=['日期', '類別', '品項', '金額', '付款方式'])\n",
        "\n",
        "        df = pd.DataFrame(records)\n",
        "\n",
        "        # 確保 '金額' 欄位是數值類型\n",
        "        # 由於 gspread get_all_records 可能將數值讀為 int 或 float，這裡用 to_numeric 確保一致性\n",
        "        df['金額'] = pd.to_numeric(df['金額'], errors='coerce')\n",
        "        df = df.dropna(subset=['金額']) # 移除無法轉換金額的行\n",
        "\n",
        "        return df\n",
        "\n",
        "    except Exception as e:\n",
        "        # 在 Colab 環境中，如果連線失敗，回傳空的 DataFrame\n",
        "        print(f\"讀取 Google Sheet 發生錯誤: {e}\")\n",
        "        return pd.DataFrame(columns=['日期', '類別', '品項', '金額', '付款方式'])\n"
      ],
      "metadata": {
        "id": "lg3WhW9Sl0qn"
      },
      "execution_count": 6,
      "outputs": []
    },
    {
      "cell_type": "code",
      "source": [
        "def write_data_to_sheet(df):\n",
        "    \"\"\"將 DataFrame 寫回 Google Sheet (覆蓋現有內容)。\"\"\"\n",
        "    try:\n",
        "        # 準備寫入資料: 標題行 + 資料行\n",
        "        data_to_write = [df.columns.values.tolist()] + df.values.tolist()\n",
        "\n",
        "        # 清除並更新工作表\n",
        "        sheet.clear()\n",
        "        sheet.update(data_to_write, value_input_option='USER_ENTERED')\n",
        "        print(\"資料已成功寫回 Google Sheet。\")\n",
        "        return True\n",
        "    except Exception as e:\n",
        "        print(f\"寫入 Google Sheet 發生錯誤: {e}\")\n",
        "        return False"
      ],
      "metadata": {
        "id": "1Mm9f7_zmHP9"
      },
      "execution_count": 7,
      "outputs": []
    },
    {
      "cell_type": "code",
      "source": [
        "def record_expense_and_update(date_str: str, category: str, item: str, amount: float, payer: str):\n",
        "    \"\"\"\n",
        "    Gradio 介面調用函數：記錄一筆支出，更新 Google Sheet，並返回更新後的 DataFrame。\n",
        "    \"\"\"\n",
        "    try:\n",
        "        # 1. 讀取現有資料\n",
        "        df_expenses = load_dataframe_from_sheet()\n",
        "\n",
        "        # 2. 創建新資料行\n",
        "        new_expense = {\n",
        "            '日期': date_str,\n",
        "            '類別': category,\n",
        "            '品項': item,\n",
        "            '金額': float(amount), # 確保金額是 float\n",
        "            '付款方式': payer\n",
        "        }\n",
        "\n",
        "        # 3. 添加到 DataFrame\n",
        "        new_df = pd.concat([df_expenses, pd.DataFrame([new_expense])], ignore_index=True)\n",
        "\n",
        "        # 4. 寫回 Google Sheet\n",
        "        if write_data_to_sheet(new_df):\n",
        "            message = f\"✅ 成功記錄：{item} ({amount} 元)，資料已同步至 Google Sheet。\"\n",
        "        else:\n",
        "            message = f\"⚠️ 記錄 {item} 失敗，請檢查 Google Sheet 權限或 URL。\"\n",
        "\n",
        "        return message, new_df # Gradio 輸出：消息 + DataFrame\n",
        "\n",
        "    except Exception as e:\n",
        "        error_message = f\"❌ 記錄支出時發生錯誤: {e}\"\n",
        "        print(error_message)\n",
        "        # 返回錯誤消息和空 DataFrame 或舊 DataFrame\n",
        "        return error_message, load_dataframe_from_sheet()"
      ],
      "metadata": {
        "id": "SOUO6j6XmXqc"
      },
      "execution_count": 8,
      "outputs": []
    },
    {
      "cell_type": "code",
      "source": [
        "def calculate_summary_and_share(num_people: int):\n",
        "    \"\"\"\n",
        "    Gradio 介面調用函數：計算總支出並根據人數計算分攤金額。\n",
        "    \"\"\"\n",
        "    try:\n",
        "        df_expenses = load_dataframe_from_sheet()\n",
        "\n",
        "        if df_expenses.empty:\n",
        "            return \"## 🔍 支出分析結果\\n\\n**沒有任何支出記錄，請先新增記錄。**\"\n",
        "\n",
        "        # 確保 '金額' 是數值類型 (load_dataframe_from_sheet 已處理)\n",
        "        total_amount = df_expenses['金額'].sum()\n",
        "\n",
        "        result_html = f\"## 🔍 支出分析結果\\n\\n\"\n",
        "        result_html += f\"**總支出金額：** <span style='font-size: 1.5em; color: #10B981;'>{total_amount:,.2f} 元</span>\\n\\n\"\n",
        "\n",
        "        if num_people is None or num_people <= 0:\n",
        "            result_html += \"\\n**請輸入有效的分攤人數（大於 0）來計算分攤金額。**\"\n",
        "        else:\n",
        "            share_per_person = total_amount / num_people\n",
        "            result_html += f\"### 💰 支出分攤速算\\n\\n\"\n",
        "            result_html += f\"- **分攤人數：** **{num_people}** 人\\n\"\n",
        "            result_html += f\"- **每人應分攤金額：** <span style='font-size: 1.5em; color: #EF4444;'>{share_per_person:,.2f} 元</span>\"\n",
        "\n",
        "        # (選作) 顯示類別支出彙總\n",
        "        category_summary = df_expenses.groupby('類別')['金額'].sum().sort_values(ascending=False)\n",
        "        result_html += \"\\n\\n### 📊 類別支出彙總\\n\\n\"\n",
        "        for category, amount in category_summary.items():\n",
        "            result_html += f\"- **{category}**: {amount:,.2f} 元\\n\"\n",
        "\n",
        "        return result_html\n",
        "\n",
        "    except Exception as e:\n",
        "        return f\"❌ 計算發生錯誤: {e}\""
      ],
      "metadata": {
        "id": "9cgWi5fimaiU"
      },
      "execution_count": 9,
      "outputs": []
    },
    {
      "cell_type": "code",
      "source": [
        "def clear_inputs():\n",
        "    \"\"\"清除輸入欄位，日期設為今天，金額設為 None。\"\"\"\n",
        "    today = datetime.date.today().strftime(\"%Y-%m-%d\")\n",
        "    # 依序返回：日期, 類別, 品項, 金額, 付款方式 的重設值\n",
        "    return today, \"\", \"\", None, \"\""
      ],
      "metadata": {
        "id": "ZdOdS7m6ozjz"
      },
      "execution_count": 11,
      "outputs": []
    },
    {
      "cell_type": "code",
      "source": [
        "# ----------------------------------------------------------------------\n",
        "# 3. Gradio 介面配置\n",
        "# ----------------------------------------------------------------------\n",
        "\n",
        "# 初始讀取數據用於顯示\n",
        "initial_df = load_dataframe_from_sheet()\n",
        "\n",
        "# 使用 gr.Blocks 創建一個多功能的介面\n",
        "with gr.Blocks(title=\"Google Sheets 支出管理\", theme=gr.themes.Base()) as app:\n",
        "    gr.Markdown(f\"# 💸 支出記錄與分攤工具\")\n",
        "    gr.Markdown(\"此工具與您的 Google Sheet 同步，請確保 Colab 驗證已完成。\")\n",
        "\n",
        "    with gr.Tab(\"📝 記錄支出\"):\n",
        "        # 記錄支出區塊\n",
        "        with gr.Row():\n",
        "            date_input = gr.Textbox(label=\"日期 (YYYY-MM-DD)\", placeholder=datetime.date.today().strftime(\"%Y-%m-%d\"),\n",
        "                                    value=datetime.date.today().strftime(\"%Y-%m-%d\"), type=\"text\")\n",
        "            category_input = gr.Textbox(label=\"類別\", placeholder=\"例如：餐飲、交通、娛樂\")\n",
        "            item_input = gr.Textbox(label=\"品項\", placeholder=\"例如：午餐、車票、電影票\")\n",
        "            amount_input = gr.Number(label=\"金額\", placeholder=\"請輸入數字\")\n",
        "            payer_input = gr.Textbox(label=\"付款方式\", placeholder=\"例如：現金、信用卡、人名\")\n",
        "\n",
        "        submit_btn = gr.Button(\"記錄並同步至 Google Sheet\")\n",
        "        clear_btn = gr.Button(\"全部清除\", variant=\"secondary\")\n",
        "\n",
        "        # 輸出區塊\n",
        "        record_message = gr.Markdown(\"等待記錄...\")\n",
        "        current_data_output = gr.Dataframe(\n",
        "            label=\"🔄 Google Sheet 最新資料 (會自動更新)\",\n",
        "            value=initial_df,\n",
        "            interactive=False,\n",
        "            wrap=True\n",
        "        )\n",
        "\n",
        "        # 定義點擊事件\n",
        "        submit_btn.click(\n",
        "            fn=record_expense_and_update,\n",
        "            inputs=[date_input, category_input, item_input, amount_input, payer_input],\n",
        "            outputs=[record_message, current_data_output]\n",
        "        )\n",
        "\n",
        "        # 2. 定義「全部清除」按鈕事件\n",
        "        clear_btn.click(\n",
        "            fn=clear_inputs,\n",
        "            inputs=[],\n",
        "            # 輸出是輸入框自身，用於重設它們的值\n",
        "            outputs=[date_input, category_input, item_input, amount_input, payer_input]\n",
        "        )\n",
        "\n",
        "    with gr.Tab(\"📈 支出分析與分攤\"):\n",
        "        # 支出分析區塊\n",
        "        with gr.Row():\n",
        "            num_people_input = gr.Number(label=\"分攤人數\", value=2, minimum=1)\n",
        "            analyze_btn = gr.Button(\"計算總額與分攤\")\n",
        "\n",
        "        analysis_output = gr.Markdown(\"點擊 '計算總額與分攤' 以顯示結果。\")\n",
        "\n",
        "        # 定義點擊事件\n",
        "        analyze_btn.click(\n",
        "            fn=calculate_summary_and_share,\n",
        "            inputs=[num_people_input],\n",
        "            outputs=[analysis_output]\n",
        "        )\n",
        "\n",
        "        # 增加一個按鈕用於重新整理資料（例如：在其他 Tab 記錄後）\n",
        "        with gr.Row():\n",
        "             refresh_btn = gr.Button(\"重新整理最新資料\")\n",
        "             # 重新整理 DataFrame\n",
        "             refresh_btn.click(\n",
        "                 fn=load_dataframe_from_sheet,\n",
        "                 inputs=[],\n",
        "                 outputs=[current_data_output]\n",
        "             )\n",
        "\n",
        "\n",
        "# 在 Colab 環境中啟動 Gradio App\n",
        "# share=True 會生成一個公開連結，方便查看\n",
        "if 'google.colab' in str(get_ipython()):\n",
        "    print(\"\\n--- 正在啟動 Gradio 應用程式 ---\")\n",
        "    app.launch(debug=True, share=True)\n",
        "else:\n",
        "    app.launch(debug=True)\n"
      ],
      "metadata": {
        "colab": {
          "base_uri": "https://localhost:8080/",
          "height": 694
        },
        "id": "_-7WBGpQjytf",
        "outputId": "bb6155e1-7e8f-4fd8-aa2b-4ee698c4b4dc"
      },
      "execution_count": 13,
      "outputs": [
        {
          "output_type": "stream",
          "name": "stdout",
          "text": [
            "\n",
            "--- 正在啟動 Gradio 應用程式 ---\n",
            "Colab notebook detected. This cell will run indefinitely so that you can see errors and logs. To turn off, set debug=False in launch().\n",
            "* Running on public URL: https://9ab2f11d15ad3b2033.gradio.live\n",
            "\n",
            "This share link expires in 1 week. For free permanent hosting and GPU upgrades, run `gradio deploy` from the terminal in the working directory to deploy to Hugging Face Spaces (https://huggingface.co/spaces)\n"
          ]
        },
        {
          "output_type": "display_data",
          "data": {
            "text/plain": [
              "<IPython.core.display.HTML object>"
            ],
            "text/html": [
              "<div><iframe src=\"https://9ab2f11d15ad3b2033.gradio.live\" width=\"100%\" height=\"500\" allow=\"autoplay; camera; microphone; clipboard-read; clipboard-write;\" frameborder=\"0\" allowfullscreen></iframe></div>"
            ]
          },
          "metadata": {}
        },
        {
          "output_type": "stream",
          "name": "stdout",
          "text": [
            "資料已成功寫回 Google Sheet。\n",
            "Keyboard interruption in main thread... closing server.\n",
            "Killing tunnel 127.0.0.1:7860 <> https://9ab2f11d15ad3b2033.gradio.live\n"
          ]
        }
      ]
    }
  ]
}