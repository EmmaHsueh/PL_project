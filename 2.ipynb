{
  "nbformat": 4,
  "nbformat_minor": 0,
  "metadata": {
    "colab": {
      "provenance": [],
      "authorship_tag": "ABX9TyNPEJL2qbC2MsVbFd0c1iD2",
      "include_colab_link": true
    },
    "kernelspec": {
      "name": "python3",
      "display_name": "Python 3"
    },
    "language_info": {
      "name": "python"
    }
  },
  "cells": [
    {
      "cell_type": "markdown",
      "metadata": {
        "id": "view-in-github",
        "colab_type": "text"
      },
      "source": [
        "<a href=\"https://colab.research.google.com/github/EmmaHsueh/PL_project/blob/main/2.ipynb\" target=\"_parent\"><img src=\"https://colab.research.google.com/assets/colab-badge.svg\" alt=\"Open In Colab\"/></a>"
      ]
    },
    {
      "cell_type": "code",
      "source": [
        "# ==========================\n",
        "# 1️⃣ 安裝與授權\n",
        "# ==========================\n",
        "# 確保使用 Gradio 4.44.1\n",
        "!pip uninstall -y gradio gradio-client\n",
        "!pip install gradio==4.44.1 google-generativeai gspread google-auth -q\n",
        "\n",
        "# Colab 認證\n",
        "from google.colab import auth\n",
        "auth.authenticate_user()\n",
        "\n",
        "# ==========================\n",
        "# 2️⃣ 套件與 Google Sheets 初始化\n",
        "# ==========================\n",
        "import gspread\n",
        "from google.auth import default\n",
        "import datetime\n",
        "import google.generativeai as genai\n",
        "import gradio as gr\n",
        "\n",
        "# Google Sheets 連線\n",
        "creds, _ = default()\n",
        "gc = gspread.authorize(creds)\n",
        "SHEET_URL = \"https://docs.google.com/spreadsheets/d/1NWfzWB6bP1n8p5fBoAQ4C7WQTVwsg-DDeND_ow4AnpM/edit?usp=sharing\"\n",
        "WORKSHEET_NAME = \"工作表1\"\n",
        "ws = gc.open_by_url(SHEET_URL).worksheet(WORKSHEET_NAME)\n",
        "\n",
        "# 如果沒有 AI 建議欄位，先在試算表新增一欄 “AI建議”（假設是第6欄）\n",
        "# ws.update_cell(1, 6, \"AI建議\")\n",
        "\n",
        "# ==========================\n",
        "# 3️⃣ Gemini API 初始化\n",
        "# ==========================\n",
        "genai.configure(api_key=\"mtlast\")  # ←改成你的 Gemini API Key\n",
        "model = genai.GenerativeModel(\"gemini-2.5-flash\")"
      ],
      "metadata": {
        "colab": {
          "base_uri": "https://localhost:8080/"
        },
        "id": "ZmFJ-q8hVIFK",
        "outputId": "701bfa99-0ad3-4700-ce51-ffc2d62a3fdf"
      },
      "execution_count": 22,
      "outputs": [
        {
          "output_type": "stream",
          "name": "stdout",
          "text": [
            "Found existing installation: gradio 4.44.1\n",
            "Uninstalling gradio-4.44.1:\n",
            "  Successfully uninstalled gradio-4.44.1\n",
            "Found existing installation: gradio_client 1.3.0\n",
            "Uninstalling gradio_client-1.3.0:\n",
            "  Successfully uninstalled gradio_client-1.3.0\n"
          ]
        }
      ]
    },
    {
      "cell_type": "code",
      "source": [
        "def record_and_analyze(bp, sugar, diet, alcohol):\n",
        "    \"\"\"紀錄健康資料並生成AI健康建議\"\"\"\n",
        "    today = datetime.date.today().isoformat()\n",
        "    ws.append_row([today, bp, sugar, diet, alcohol])  # 先寫入基本資料\n",
        "\n",
        "    data = ws.get_all_records()\n",
        "    prompt = (\n",
        "        \"請根據以下健康紀錄資料，整理出一份當日健康建議：\\n\"\n",
        "        f\"{data[-5:]}\\n\"\n",
        "        \"請針對血壓、血糖、飲食與喝酒情況提供具體建議。\"\n",
        "    )\n",
        "\n",
        "    response = model.generate_content(prompt)\n",
        "    ai_text = response.text.strip()\n",
        "\n",
        "    # 把 AI 建議也寫回試算表\n",
        "    last_row = len(ws.get_all_values())\n",
        "    ws.update_cell(last_row, 6, ai_text)\n",
        "\n",
        "    return ai_text\n",
        "\n",
        "# ========= Gradio 視覺化介面 =========\n",
        "iface = gr.Interface(\n",
        "    fn=record_and_analyze,\n",
        "    inputs=[\n",
        "        gr.Textbox(label=\"血壓（例如 120/80）\"),\n",
        "        gr.Textbox(label=\"血糖（mg/dL）\"),\n",
        "        gr.Textbox(label=\"今日飲食摘要\"),\n",
        "        gr.Dropdown([\"是\", \"否\"], label=\"是否喝酒\")\n",
        "    ],\n",
        "    outputs=gr.Textbox(label=\"AI 健康建議\", lines=6),\n",
        "    title=\"🩺 每日健康紀錄系統（Gemini + Google Sheet）\",\n",
        "    description=\"輸入每日健康資訊，Gemini 將提供個人化建議並自動儲存到 Google Sheet。\"\n",
        ")\n",
        "\n",
        "iface.launch(share=True)  # 使用 share=True 讓你在外部頁面開啟"
      ],
      "metadata": {
        "colab": {
          "base_uri": "https://localhost:8080/",
          "height": 609
        },
        "id": "tHdg67qOWUCu",
        "outputId": "730af971-8cdf-448c-bc57-ff3dca6d8440"
      },
      "execution_count": 23,
      "outputs": [
        {
          "output_type": "stream",
          "name": "stdout",
          "text": [
            "Colab notebook detected. To show errors in colab notebook, set debug=True in launch()\n",
            "Running on public URL: https://8b6be2c5e48063c40a.gradio.live\n",
            "\n",
            "This share link expires in 72 hours. For free permanent hosting and GPU upgrades, run `gradio deploy` from Terminal to deploy to Spaces (https://huggingface.co/spaces)\n"
          ]
        },
        {
          "output_type": "display_data",
          "data": {
            "text/plain": [
              "<IPython.core.display.HTML object>"
            ],
            "text/html": [
              "<div><iframe src=\"https://8b6be2c5e48063c40a.gradio.live\" width=\"100%\" height=\"500\" allow=\"autoplay; camera; microphone; clipboard-read; clipboard-write;\" frameborder=\"0\" allowfullscreen></iframe></div>"
            ]
          },
          "metadata": {}
        },
        {
          "output_type": "execute_result",
          "data": {
            "text/plain": []
          },
          "metadata": {},
          "execution_count": 23
        }
      ]
    }
  ]
}